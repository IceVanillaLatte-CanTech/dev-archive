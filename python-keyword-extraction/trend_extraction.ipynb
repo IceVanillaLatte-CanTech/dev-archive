{
 "cells": [
  {
   "cell_type": "code",
   "execution_count": 7,
   "metadata": {},
   "outputs": [
    {
     "name": "stdout",
     "output_type": "stream",
     "text": [
      "                                              뉴스 제목  \\\n",
      "0             김재관 KB국민카드 사장 \"변화의 출발점은 소통… 협업 문화 정착\"   \n",
      "1                     임종룡 해외투자자에 서한 \"밸류업 일관되게 추진할것\"   \n",
      "2                          트럼프 내일 취임…초강력 ‘마가’ 시대 연다   \n",
      "3  외국인이 먼저 찾는 여행 플랫폼은?…관광상품 경쟁력은 '클룩', 상품수는 'kkday'   \n",
      "4                '생맥주야, 캔맥주야'..'물성매력'으로 공략하는 식음료 업계   \n",
      "\n",
      "                                               뉴스 내용  \n",
      "0  지난 17일 열린 2025년 상반기 경영전략회의에서 김재관 KB국민카드 사장이 올해...  \n",
      "1  임종룡 우리금융그룹 회장이 해외 투자자들에게 서한을 보내 그룹의 기업가치 제고(밸류...  \n",
      "2  8년 만에 다시 백악관 재입성하는 트럼프\\n취임 첫날 100여건 행정명령 및 조치 ...  \n",
      "3  국내 여행 콘텐츠를 담은 온라인 여행 플랫폼(OTA) 중 가격 경쟁력이 가장 높은 ...  \n",
      "4  오비맥주 한맥의 거품기를 캔맥주에 장착해 더 풍성한 거품을 즐길 수 있다. 사진은 ...  \n"
     ]
    }
   ],
   "source": [
    "import pandas as pd\n",
    "\n",
    "# CSV 파일 읽기\n",
    "file_name = \"news_data_detailed.csv\"\n",
    "\n",
    "# 필요한 열만 읽어서 DataFrame 생성\n",
    "df = pd.read_csv(file_name, usecols=[\"뉴스 제목\", \"뉴스 내용\"])\n",
    "\n",
    "# DataFrame 확인\n",
    "print(df.head())"
   ]
  },
  {
   "cell_type": "code",
   "execution_count": 8,
   "metadata": {},
   "outputs": [],
   "source": [
    "# 결측값 처리 \n",
    "df = df.dropna(subset=[\"뉴스 제목\", \"뉴스 내용\"])  # 결측값이 있는 행 제거"
   ]
  },
  {
   "cell_type": "code",
   "execution_count": 11,
   "metadata": {},
   "outputs": [
    {
     "name": "stdout",
     "output_type": "stream",
     "text": [
      "                                              뉴스 제목  \\\n",
      "0             김재관 KB국민카드 사장 \"변화의 출발점은 소통… 협업 문화 정착\"   \n",
      "1                     임종룡 해외투자자에 서한 \"밸류업 일관되게 추진할것\"   \n",
      "2                          트럼프 내일 취임…초강력 ‘마가’ 시대 연다   \n",
      "3  외국인이 먼저 찾는 여행 플랫폼은?…관광상품 경쟁력은 '클룩', 상품수는 'kkday'   \n",
      "4                '생맥주야, 캔맥주야'..'물성매력'으로 공략하는 식음료 업계   \n",
      "\n",
      "                                    뉴스 제목 정제  \\\n",
      "0         김재관 KB국민카드 사장 변화의 출발점은 소통 협업 문화 정착   \n",
      "1                임종룡 해외투자자에 서한 밸류업 일관되게 추진할것   \n",
      "2                      트럼프 내일 취임초강력 마가 시대 연다   \n",
      "3  외국인이 먼저 찾는 여행 플랫폼은관광상품 경쟁력은 클룩 상품수는 kkday   \n",
      "4                생맥주야 캔맥주야물성매력으로 공략하는 식음료 업계   \n",
      "\n",
      "                                               뉴스 내용  \\\n",
      "0  지난 17일 열린 2025년 상반기 경영전략회의에서 김재관 KB국민카드 사장이 올해...   \n",
      "1  임종룡 우리금융그룹 회장이 해외 투자자들에게 서한을 보내 그룹의 기업가치 제고(밸류...   \n",
      "2  8년 만에 다시 백악관 재입성하는 트럼프\\n취임 첫날 100여건 행정명령 및 조치 ...   \n",
      "3  국내 여행 콘텐츠를 담은 온라인 여행 플랫폼(OTA) 중 가격 경쟁력이 가장 높은 ...   \n",
      "4  오비맥주 한맥의 거품기를 캔맥주에 장착해 더 풍성한 거품을 즐길 수 있다. 사진은 ...   \n",
      "\n",
      "                                            뉴스 내용 정제  \n",
      "0  지난 일 열린 년 상반기 경영전략회의에서 김재관 KB국민카드 사장이 올해 경영전략에...  \n",
      "1  임종룡 우리금융그룹 회장이 해외 투자자들에게 서한을 보내 그룹의 기업가치 제고밸류업...  \n",
      "2  년 만에 다시 백악관 재입성하는 트럼프\\n취임 첫날 여건 행정명령 및 조치 단행 예...  \n",
      "3  국내 여행 콘텐츠를 담은 온라인 여행 플랫폼OTA 중 가격 경쟁력이 가장 높은 플랫...  \n",
      "4  오비맥주 한맥의 거품기를 캔맥주에 장착해 더 풍성한 거품을 즐길 수 있다 사진은 유...  \n",
      "정제된 데이터가 'cleaned_news_data.csv'에 저장되었습니다.\n"
     ]
    }
   ],
   "source": [
    "# 텍스트 정제\n",
    "\n",
    "import re\n",
    "import pandas as pd\n",
    "\n",
    "# 정제 함수 정의\n",
    "def text_clean(text):\n",
    "    \"\"\"\n",
    "    텍스트 데이터를 정제하는 함수\n",
    "    \"\"\"\n",
    "    # 1. HTML 태그 제거\n",
    "    text = re.sub(r'<[^>]*>', '', text)\n",
    "    \n",
    "    # 2. 특수기호 제거\n",
    "    text = re.sub(r'[^\\w\\s]', '', text)\n",
    "    \n",
    "    # 3. 한글 자음/모음 제거\n",
    "    text = re.sub(r'[ㄱ-ㅎㅏ-ㅣ]+', '', text)\n",
    "    \n",
    "    # 4. 숫자 및 불필요한 단어 제거\n",
    "    text = re.sub(r'[0-9]+', '', text)\n",
    "    \n",
    "    # 5. 기자 이름 및 메타데이터 제거\n",
    "    text = re.sub(r'\\[.*?\\]|기자', '', text)\n",
    "    \n",
    "    # 6. 공백 제거 및 정리\n",
    "    text = text.strip()\n",
    "    \n",
    "    return text\n",
    "\n",
    "# 제목과 뉴스 내용 정제\n",
    "df[\"뉴스 제목 정제\"] = df[\"뉴스 제목\"].apply(text_clean)\n",
    "df[\"뉴스 내용 정제\"] = df[\"뉴스 내용\"].apply(text_clean)\n",
    "\n",
    "# 결과 확인\n",
    "print(df[[\"뉴스 제목\", \"뉴스 제목 정제\", \"뉴스 내용\", \"뉴스 내용 정제\"]].head())\n",
    "\n",
    "# 정제된 결과를 저장\n",
    "output_file = \"cleaned_news_data.csv\"\n",
    "df[[\"뉴스 제목 정제\", \"뉴스 내용 정제\"]].to_csv(output_file, index=False)\n",
    "\n",
    "print(f\"정제된 데이터가 '{output_file}'에 저장되었습니다.\")"
   ]
  },
  {
   "cell_type": "code",
   "execution_count": null,
   "metadata": {},
   "outputs": [
    {
     "ename": "ModuleNotFoundError",
     "evalue": "No module named 'konlpy'",
     "output_type": "error",
     "traceback": [
      "\u001b[0;31m---------------------------------------------------------------------------\u001b[0m",
      "\u001b[0;31mModuleNotFoundError\u001b[0m                       Traceback (most recent call last)",
      "Cell \u001b[0;32mIn[11], line 5\u001b[0m\n\u001b[1;32m      1\u001b[0m \u001b[38;5;66;03m# 형태소 분석\u001b[39;00m\n\u001b[1;32m      2\u001b[0m \n\u001b[1;32m      3\u001b[0m \u001b[38;5;66;03m# 필요한 라이브러리 임포트\u001b[39;00m\n\u001b[1;32m      4\u001b[0m \u001b[38;5;28;01mimport\u001b[39;00m\u001b[38;5;250m \u001b[39m\u001b[38;5;21;01mpandas\u001b[39;00m\u001b[38;5;250m \u001b[39m\u001b[38;5;28;01mas\u001b[39;00m\u001b[38;5;250m \u001b[39m\u001b[38;5;21;01mpd\u001b[39;00m\n\u001b[0;32m----> 5\u001b[0m \u001b[38;5;28;01mfrom\u001b[39;00m\u001b[38;5;250m \u001b[39m\u001b[38;5;21;01mkonlpy\u001b[39;00m\u001b[38;5;21;01m.\u001b[39;00m\u001b[38;5;21;01mtag\u001b[39;00m\u001b[38;5;250m \u001b[39m\u001b[38;5;28;01mimport\u001b[39;00m Mecab\n\u001b[1;32m      7\u001b[0m \u001b[38;5;66;03m# Mecab 객체 생성\u001b[39;00m\n\u001b[1;32m      8\u001b[0m mecab \u001b[38;5;241m=\u001b[39m Mecab()\n",
      "\u001b[0;31mModuleNotFoundError\u001b[0m: No module named 'konlpy'"
     ]
    }
   ],
   "source": [
    "# 필요한 라이브러리 임포트\n",
    "import pandas as pd\n",
    "from konlpy.tag import Mecab\n",
    "\n",
    "# Mecab 객체 생성\n",
    "mecab = Mecab()\n",
    "\n",
    "# CSV 파일에서 데이터 읽기\n",
    "file_name = \"cleaned_news_data.csv\"  # 정제된 데이터 파일\n",
    "df = pd.read_csv(file_name, usecols=[\"제목 정제\", \"뉴스 내용 정제\"])  # 제목과 뉴스 내용 열 사용\n",
    "\n",
    "# 뉴스 제목과 내용을 합치기\n",
    "df[\"전체 텍스트\"] = df[\"제목 정제\"].fillna('') + \" \" + df[\"뉴스 내용 정제\"].fillna('')\n",
    "\n",
    "# 전체 텍스트를 하나의 문자열로 합치기 (corpus 생성)\n",
    "corpus = \" \".join(df[\"전체 텍스트\"].dropna().astype(str))\n",
    "\n",
    "# 형태소 분석 - 명사 추출\n",
    "tokens = mecab.nouns(corpus)\n",
    "\n",
    "# 결과 확인 (토큰 50개 출력)\n",
    "print(tokens[:50])"
   ]
  },
  {
   "cell_type": "code",
   "execution_count": null,
   "metadata": {},
   "outputs": [],
   "source": [
    "# 단어 빈도 수  측정\n",
    "\n",
    "from collections import Counter\n",
    "\n",
    "nouns_counter = Counter(tokens)\n",
    "top_nouns = dict(nouns_counter.most_common(30))    # 딕셔너리 형태로 상위 30개 저장\n",
    "top_nouns"
   ]
  }
 ],
 "metadata": {
  "kernelspec": {
   "display_name": "3.11.2",
   "language": "python",
   "name": "python3"
  },
  "language_info": {
   "codemirror_mode": {
    "name": "ipython",
    "version": 3
   },
   "file_extension": ".py",
   "mimetype": "text/x-python",
   "name": "python",
   "nbconvert_exporter": "python",
   "pygments_lexer": "ipython3",
   "version": "3.11.2"
  }
 },
 "nbformat": 4,
 "nbformat_minor": 2
}
