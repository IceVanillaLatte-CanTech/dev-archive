{
 "cells": [
  {
   "cell_type": "markdown",
   "metadata": {},
   "source": [
    "# **Naver Book Search Open API**\n",
    "### **목표**\n",
    "1. **네이버 도서 검색 API 호출**:  \n",
    "   - 키워드를 기반으로 도서 데이터를 검색합니다.\n",
    "2. **데이터 분석 및 활용**:  \n",
    "   - 검색된 데이터를 정리 및 가공하여 원하는 정보를 추출합니다.\n",
    "\n",
    "### **작성자 정보**\n",
    "Written by [**Yujin_nKim**](https://github.com/Yujin-nKim)"
   ]
  },
  {
   "cell_type": "code",
   "execution_count": 3,
   "metadata": {},
   "outputs": [],
   "source": [
    "import secret\n",
    "# 네이버 API 인증 키 설정 \n",
    "# 네이버 개발자 센터에서 발급받은 클라이언트 ID와 시크릿 키를 이용합니다. \n",
    "NAVER_CLIENT_ID = secret.my_client_id # 네이버 클라이언트 ID\n",
    "NAVER_CLIENT_SECRET = secret.my_client_secret # 네이버 클라이언트 시크릿 키 \n",
    "\n",
    "# 네이버 도서 검색 API의 엔드포인트 URL (json 형식)\n",
    "BOOK_SEARCH_JSON_URL = \"https://openapi.naver.com/v1/search/book.json\";\n",
    "# 네이버 도서 상세 검색 API의 엔드포인트 URL (xml 형식)\n",
    "BOOK_ADVANCED_SEARCH_XML_URL = \"https://openapi.naver.com/v1/search/book_adv.xml\";"
   ]
  },
  {
   "cell_type": "code",
   "execution_count": 4,
   "metadata": {},
   "outputs": [],
   "source": [
    "# 검색 파라미터 설정\n",
    "searchWord = \"재테크\" # 검색어\n",
    "display = 100 # 한 번에 표시할 검색 결과 개수 (기본값: 10, 최댓값: 100)\n",
    "start = 1 # 검색 시작 위치 (기본값: 1, 최댓값: 1000)\n",
    "sort = \"sim\" # 검색 결과 정렬 방식 (sim - 정확도순 (기본값, 내림차순) / date - 날짜순 (내림차순)))"
   ]
  },
  {
   "cell_type": "code",
   "execution_count": 5,
   "metadata": {},
   "outputs": [],
   "source": [
    "# API 호출 결과로 받은 도서 데이터 리스트를 출력하는 함수 \n",
    "# items (list) : 도서 검색 결과의 아이템 목록\n",
    "def print_item(items):\n",
    "    for item in items:\n",
    "        print(\"제목:\", item[\"title\"].replace(\"<b>\", \"\").replace(\"</b>\", \"\"))    \n",
    "        print(\"링크:\", item[\"link\"])\n",
    "        print(\"이미지링크:\", item[\"image\"])\n",
    "        print(\"저자:\", item[\"author\"])\n",
    "        print(\"가격:\", item[\"discount\"])\n",
    "        print(\"출판사:\", item[\"publisher\"])\n",
    "        print(\"출판일:\", item[\"pubdate\"])\n",
    "        print(\"isbn:\", item[\"isbn\"])\n",
    "        print(\"요약:\", item[\"description\"].replace(\"<b>\", \"\").replace(\"</b>\", \"\"))\n",
    "        print(\"-\" * 50)"
   ]
  },
  {
   "cell_type": "code",
   "execution_count": 6,
   "metadata": {},
   "outputs": [],
   "source": [
    "import csv\n",
    "\n",
    "# 도서 검색 결과를 CSV 파일로 저장하는 함수\n",
    "# items (list) : 도서 검색 결과의 아이템 목록\n",
    "# filename (str) : 저장할 CSV 파일 이름 (기본값: 'books_results.csv')\n",
    "def save_to_csv(items, filename=\"books_results.csv\"):\n",
    "    # CSV 파일 열기\n",
    "    with open(filename, mode=\"w\", encoding=\"utf-8\", newline=\"\") as file:\n",
    "        writer = csv.writer(file)\n",
    "        \n",
    "        # 헤더 작성\n",
    "        writer.writerow([\"제목\", \"링크\", \"이미지 링크\", \"저자\", \"가격\", \"출판사\", \"출판일\", \"isbn\", \"요약\"])\n",
    "        \n",
    "        # 데이터 작성\n",
    "        for item in items:\n",
    "            title = item[\"title\"].replace(\"<b>\", \"\").replace(\"</b>\", \"\")\n",
    "            link = item[\"link\"]\n",
    "            image = item[\"image\"]\n",
    "            author = item[\"author\"]\n",
    "            discount = item[\"discount\"]\n",
    "            publisher = item[\"publisher\"]\n",
    "            pubdate = item[\"pubdate\"]\n",
    "            isbn = item[\"isbn\"]\n",
    "            description = item[\"description\"].replace(\"<b>\", \"\").replace(\"</b>\", \"\")\n",
    "            \n",
    "            writer.writerow([title, link, image, author, discount, publisher, pubdate, isbn, description])\n",
    "\n",
    "    print(f\"결과가 {filename}에 저장되었습니다.\")"
   ]
  },
  {
   "cell_type": "code",
   "execution_count": 7,
   "metadata": {},
   "outputs": [
    {
     "name": "stdout",
     "output_type": "stream",
     "text": [
      "요청 URL: https://openapi.naver.com/v1/search/book.json?query=%EC%9E%AC%ED%85%8C%ED%81%AC&display=100&start=1&sort=sim\n",
      "1번째 결과부터 100까지 데이터를 가져왔습니다.\n",
      "요청 URL: https://openapi.naver.com/v1/search/book.json?query=%EC%9E%AC%ED%85%8C%ED%81%AC&display=100&start=101&sort=sim\n",
      "101번째 결과부터 200까지 데이터를 가져왔습니다.\n",
      "결과가 books_results.csv에 저장되었습니다.\n"
     ]
    }
   ],
   "source": [
    "# 네이버 검색 API 예제 - 도서 검색\n",
    "\n",
    "import urllib.request\n",
    "import json\n",
    "\n",
    "# 네이버 API 인증 정보\n",
    "client_id = NAVER_CLIENT_ID \n",
    "client_secret = NAVER_CLIENT_SECRET\n",
    "\n",
    "all_items = [] # 모든 뉴스 데이터를 저장할 리스트\n",
    "\n",
    "while True:\n",
    "    # 검색 파라미터 설정\n",
    "    query_params = {\n",
    "        \"query\": urllib.parse.quote(searchWord),\n",
    "        \"display\": display, \n",
    "        \"start\": start,\n",
    "        \"sort\": sort\n",
    "    }\n",
    "\n",
    "    query_string = \"&\".join([f\"{key}={value}\" for key, value in query_params.items()])\n",
    "    url = f\"{BOOK_SEARCH_JSON_URL}?{query_string}\"\n",
    "\n",
    "    # API 요청 URL 출력\n",
    "    print(\"요청 URL:\", url)\n",
    "\n",
    "    # 요청 객체 생성\n",
    "    request = urllib.request.Request(url)\n",
    "    request.add_header(\"X-Naver-Client-Id\",client_id)\n",
    "    request.add_header(\"X-Naver-Client-Secret\",client_secret)\n",
    "\n",
    "    # API 요청 및 응답 처리 \n",
    "    try:\n",
    "        response = urllib.request.urlopen(request)\n",
    "        rescode = response.getcode()\n",
    "        if(rescode==200): # 성공 응답 \n",
    "            response_body = response.read().decode('utf-8')\n",
    "            data = json.loads(response_body)\n",
    "            \n",
    "            # 전체 결과 수와 현재 페이지의 아이템 가져오기\n",
    "            #total_results = data[\"total\"]\n",
    "            total_results = 200 # test\n",
    "            items = data[\"items\"]\n",
    "            all_items.extend(items)\n",
    "            \n",
    "            print(f\"{start}번째 결과부터 {start + len(items) - 1}까지 데이터를 가져왔습니다.\")\n",
    "            \n",
    "            # 다음 페이지로 이동\n",
    "            start += display\n",
    "            \n",
    "            # 더 이상 가져올 데이터가 없으면 중단\n",
    "            if start > total_results or not items:\n",
    "                break\n",
    "        else:\n",
    "            print(f\"Error Code: {response.getcode()}\")\n",
    "            break\n",
    "    except Exception as e:\n",
    "        print(\"Exception:\", e)\n",
    "        \n",
    "# 모든 데이터 CSV로 저장\n",
    "save_to_csv(all_items)"
   ]
  },
  {
   "cell_type": "code",
   "execution_count": null,
   "metadata": {},
   "outputs": [],
   "source": []
  }
 ],
 "metadata": {
  "kernelspec": {
   "display_name": "3.11.2",
   "language": "python",
   "name": "python3"
  },
  "language_info": {
   "codemirror_mode": {
    "name": "ipython",
    "version": 3
   },
   "file_extension": ".py",
   "mimetype": "text/x-python",
   "name": "python",
   "nbconvert_exporter": "python",
   "pygments_lexer": "ipython3",
   "version": "3.11.2"
  }
 },
 "nbformat": 4,
 "nbformat_minor": 2
}
